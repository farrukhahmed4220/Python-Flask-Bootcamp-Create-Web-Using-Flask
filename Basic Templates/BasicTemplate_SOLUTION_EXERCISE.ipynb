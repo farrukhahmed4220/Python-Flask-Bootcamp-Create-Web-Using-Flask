{
 "cells": [
  {
   "cell_type": "code",
   "execution_count": 10,
   "metadata": {},
   "outputs": [
    {
     "name": "stdout",
     "output_type": "stream",
     "text": [
      " * Serving Flask app \"__main__\" (lazy loading)\n",
      " * Environment: production\n",
      "   WARNING: Do not use the development server in a production environment.\n",
      "   Use a production WSGI server instead.\n",
      " * Debug mode: on\n"
     ]
    },
    {
     "name": "stderr",
     "output_type": "stream",
     "text": [
      " * Restarting with stat\n"
     ]
    },
    {
     "ename": "SystemExit",
     "evalue": "1",
     "output_type": "error",
     "traceback": [
      "An exception has occurred, use %tb to see the full traceback.\n",
      "\u001b[1;31mSystemExit\u001b[0m\u001b[1;31m:\u001b[0m 1\n"
     ]
    },
    {
     "name": "stderr",
     "output_type": "stream",
     "text": [
      "C:\\Users\\FARRUKH AHMED\\Anaconda3\\lib\\site-packages\\IPython\\core\\interactiveshell.py:3275: UserWarning: To exit: use 'exit', 'quit', or Ctrl-D.\n",
      "  warn(\"To exit: use 'exit', 'quit', or Ctrl-D.\", stacklevel=1)\n"
     ]
    }
   ],
   "source": [
    "# app = Flask(__name__)\n",
    "\n",
    "# @app.route('/')\n",
    "# def index():\n",
    "#     return render_template('ex_index.html')\n",
    "\n",
    "# @app.route('/report')\n",
    "# def report():\n",
    "#     lower_letter =False\n",
    "#     upper_letter =False\n",
    "#     num_end= False\n",
    "    \n",
    "#     username = request.args.get('username')\n",
    "    \n",
    "#     lower_letter = any(c.islower() for c in username)\n",
    "#     upper_letter = any(c.isupper() for c in username)\n",
    "#     num_end = username[-1].isdigit()\n",
    "    \n",
    "#     report = lower_letter and upper_letter and num_end\n",
    "#     return render_template('report.html', report= report, \n",
    "#                            lower=lower_letter, \n",
    "#                            upper =upper_letter, \n",
    "#                            num_end=num_end )\n",
    "\n",
    "    \n",
    "    \n",
    "# #     for letter in username:\n",
    "# #         if letter.lower() == letter:\n",
    "     \n",
    "\n",
    "# if __name__ == '__main__':\n",
    "#     app.run(debug=True)"
   ]
  },
  {
   "cell_type": "code",
   "execution_count": null,
   "metadata": {},
   "outputs": [
    {
     "name": "stdout",
     "output_type": "stream",
     "text": [
      " * Serving Flask app \"__main__\" (lazy loading)\n",
      " * Environment: production\n",
      "   WARNING: Do not use the development server in a production environment.\n",
      "   Use a production WSGI server instead.\n",
      " * Debug mode: off\n"
     ]
    },
    {
     "name": "stderr",
     "output_type": "stream",
     "text": [
      " * Running on http://127.0.0.1:5000/ (Press CTRL+C to quit)\n",
      "127.0.0.1 - - [19/May/2019 13:12:21] \"\u001b[37mGET / HTTP/1.1\u001b[0m\" 200 -\n",
      "127.0.0.1 - - [19/May/2019 13:12:37] \"\u001b[37mGET /report?username=Farrukh06 HTTP/1.1\u001b[0m\" 200 -\n"
     ]
    }
   ],
   "source": [
    "# Note we imported request!\n",
    "from flask import Flask, render_template, request\n",
    "app = Flask(__name__)\n",
    "\n",
    "@app.route('/')\n",
    "def index():\n",
    "    return render_template('ex_index.html')\n",
    "\n",
    "\n",
    "# This page will be the page after the form\n",
    "@app.route('/report')\n",
    "def report():\n",
    "    # The 3 conditions to check (start as False)\n",
    "    lower_letter = False\n",
    "    upper_letter = False\n",
    "    num_end = False\n",
    "    username = request.args.get('username')\n",
    "\n",
    "\n",
    "    # Now check for restraints\n",
    "    # HINTS:\n",
    "    # https://stackoverflow.com/questions/22997072/how-to-check-if-lowercase-letters-exist/22997094\n",
    "    # https://stackoverflow.com/questions/26515422/how-to-check-if-last-character-is-integer-in-raw-input\n",
    "    lower_letter = any(c.islower() for c in username)\n",
    "    upper_letter = any(c.isupper() for c in username)\n",
    "    num_end = username[-1].isdigit()\n",
    "\n",
    "    # Check if all are True.\n",
    "    report = lower_letter and upper_letter and num_end\n",
    "\n",
    "    return render_template('report.html',report=report,\n",
    "                           lower=lower_letter,upper=upper_letter,\n",
    "                           num_end=num_end)\n",
    "\n",
    "if __name__ == '__main__':\n",
    "    app.run()\n"
   ]
  },
  {
   "cell_type": "code",
   "execution_count": null,
   "metadata": {},
   "outputs": [],
   "source": []
  }
 ],
 "metadata": {
  "kernelspec": {
   "display_name": "Python 3",
   "language": "python",
   "name": "python3"
  },
  "language_info": {
   "codemirror_mode": {
    "name": "ipython",
    "version": 3
   },
   "file_extension": ".py",
   "mimetype": "text/x-python",
   "name": "python",
   "nbconvert_exporter": "python",
   "pygments_lexer": "ipython3",
   "version": "3.6.7"
  }
 },
 "nbformat": 4,
 "nbformat_minor": 2
}

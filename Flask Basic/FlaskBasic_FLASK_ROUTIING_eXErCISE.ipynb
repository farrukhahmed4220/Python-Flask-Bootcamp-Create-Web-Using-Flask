{
 "cells": [
  {
   "cell_type": "code",
   "execution_count": null,
   "metadata": {},
   "outputs": [
    {
     "name": "stdout",
     "output_type": "stream",
     "text": [
      " * Serving Flask app \"__main__\" (lazy loading)\n",
      " * Environment: production\n",
      "   WARNING: Do not use the development server in a production environment.\n",
      "   Use a production WSGI server instead.\n",
      " * Debug mode: off\n"
     ]
    },
    {
     "name": "stderr",
     "output_type": "stream",
     "text": [
      " * Running on http://127.0.0.1:5000/ (Press CTRL+C to quit)\n",
      "127.0.0.1 - - [16/May/2019 16:06:07] \"\u001b[37mGET / HTTP/1.1\u001b[0m\" 200 -\n",
      "127.0.0.1 - - [16/May/2019 16:06:15] \"\u001b[37mGET /puppy_latin/spook HTTP/1.1\u001b[0m\" 200 -\n",
      "127.0.0.1 - - [16/May/2019 16:06:24] \"\u001b[37mGET /puppy_latin/spooky HTTP/1.1\u001b[0m\" 200 -\n"
     ]
    }
   ],
   "source": [
    "from flask import Flask\n",
    "from flask import request\n",
    "\n",
    "app = Flask(__name__)\n",
    "\n",
    "@app.route('/')   #127.0.0.1:5000\n",
    "def index():\n",
    "    return \"<h1>Welcome PUPPY !</h1><br> <h2>Please Go To puppy_latin/<name>\"\n",
    "\n",
    "@app.route('/puppy_latin/<name>')   #127.0.0.1:5000/information\n",
    "def puppy_latin(name):\n",
    "    pupname=''\n",
    "    if name[-1] == 'y':\n",
    "        pupname = name[:-1] + 'iful'\n",
    "    else:\n",
    "        pupname = name +'y'\n",
    "    \n",
    "    return \"<h1>Puppy name in latin is {}</h1>\".format(pupname)\n",
    "\n",
    "if __name__ == '__main__':\n",
    "    app.run()"
   ]
  },
  {
   "cell_type": "code",
   "execution_count": null,
   "metadata": {},
   "outputs": [],
   "source": []
  }
 ],
 "metadata": {
  "kernelspec": {
   "display_name": "Python 3",
   "language": "python",
   "name": "python3"
  },
  "language_info": {
   "codemirror_mode": {
    "name": "ipython",
    "version": 3
   },
   "file_extension": ".py",
   "mimetype": "text/x-python",
   "name": "python",
   "nbconvert_exporter": "python",
   "pygments_lexer": "ipython3",
   "version": "3.6.7"
  }
 },
 "nbformat": 4,
 "nbformat_minor": 2
}

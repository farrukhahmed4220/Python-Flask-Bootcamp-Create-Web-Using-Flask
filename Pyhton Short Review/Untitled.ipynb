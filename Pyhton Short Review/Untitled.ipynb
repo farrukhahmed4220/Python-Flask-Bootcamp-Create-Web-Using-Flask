{
 "cells": [
  {
   "cell_type": "markdown",
   "metadata": {},
   "source": [
    "# #####################################\n",
    "#### PART 6: EXERCISE REVIEW  #######\n",
    "#####################################\n",
    "\n",
    "# Time to review all the basic data types we learned! This should be a\n",
    "# relatively straight-forward and quick assignment."
   ]
  },
  {
   "cell_type": "markdown",
   "metadata": {},
   "source": [
    "# ## Problem 1 ##\n",
    "###############\n",
    "\n",
    "# Given the string:\n",
    "s = 'flask'\n",
    "\n",
    "# Use indexing to print out the following:\n",
    "# 'f'\n",
    "\n",
    "# 's'\n",
    "\n",
    "# 'ask'\n",
    "\n",
    "# 'las'\n",
    "\n",
    "# 'k'"
   ]
  },
  {
   "cell_type": "code",
   "execution_count": 2,
   "metadata": {},
   "outputs": [
    {
     "name": "stdout",
     "output_type": "stream",
     "text": [
      "f\n",
      "s\n",
      "ask\n",
      "las\n",
      "k\n"
     ]
    }
   ],
   "source": [
    "s = 'flask'\n",
    "\n",
    "print(s[0])\n",
    "print(s[3])\n",
    "print(s[2:])\n",
    "print(s[1:4])\n",
    "print(s[-1])"
   ]
  },
  {
   "cell_type": "markdown",
   "metadata": {},
   "source": [
    "#  Bonus: Use indexing to reverse the string\n"
   ]
  },
  {
   "cell_type": "code",
   "execution_count": 11,
   "metadata": {},
   "outputs": [
    {
     "name": "stdout",
     "output_type": "stream",
     "text": [
      "ksalf\n"
     ]
    }
   ],
   "source": [
    "print(s[::-1])"
   ]
  },
  {
   "cell_type": "markdown",
   "metadata": {},
   "source": [
    "###############\n",
    "## Problem 2 ##\n",
    "###############\n",
    "\n",
    "# Given this nested list:\n",
    "mylist = [3,7,[1,4,'hello']]\n",
    "# Reassign \"hello\" to be \"goodbye\""
   ]
  },
  {
   "cell_type": "code",
   "execution_count": 13,
   "metadata": {},
   "outputs": [
    {
     "name": "stdout",
     "output_type": "stream",
     "text": [
      "[3, 7, [1, 4, 'goodbye']]\n"
     ]
    }
   ],
   "source": [
    "mylist = [3,7,[1,4,'hello']]\n",
    "mylist[2][2] ='goodbye'\n",
    "print(mylist)"
   ]
  },
  {
   "cell_type": "markdown",
   "metadata": {},
   "source": [
    "###############\n",
    "## Problem 3 ##\n",
    "###############\n",
    "\n",
    "# Using keys and indexing, grab the 'hello' from the following dictionaries:\n"
   ]
  },
  {
   "cell_type": "code",
   "execution_count": 14,
   "metadata": {},
   "outputs": [],
   "source": [
    "d1 = {'simple_key':'hello'}\n",
    "\n",
    "d2 = {'k1':{'k2':'hello'}}\n",
    "\n",
    "d3 = {'k1':[{'nest_key':['this is deep',['hello']]}]}\n"
   ]
  },
  {
   "cell_type": "code",
   "execution_count": 21,
   "metadata": {},
   "outputs": [
    {
     "name": "stdout",
     "output_type": "stream",
     "text": [
      "hello\n",
      "hello\n",
      "hello\n"
     ]
    }
   ],
   "source": [
    "print(d1['simple_key'])\n",
    "print(d2['k1']['k2'])\n",
    "print(d3['k1'][0]['nest_key'][1][0])"
   ]
  },
  {
   "cell_type": "markdown",
   "metadata": {},
   "source": [
    "###############\n",
    "## Problem 4 ##\n",
    "###############\n",
    "\n",
    "# Use a set to find the unique values of the list below:"
   ]
  },
  {
   "cell_type": "code",
   "execution_count": 22,
   "metadata": {},
   "outputs": [
    {
     "name": "stdout",
     "output_type": "stream",
     "text": [
      "{1, 2, 3}\n"
     ]
    }
   ],
   "source": [
    "mylist1 = [1,1,1,1,1,2,2,2,2,3,3,3,3]\n",
    "print(set(mylist1))"
   ]
  },
  {
   "cell_type": "markdown",
   "metadata": {},
   "source": [
    "##############\n",
    "## Problem 5 ##\n",
    "###############\n",
    "\n",
    "# You are given two variables:\n",
    "age = 4\n",
    "name = \"Sammy\"\n",
    "\n",
    "# Use print formatting to print the following string:\n",
    "\"Hello my dog's name is Sammy and he is 4 years old\""
   ]
  },
  {
   "cell_type": "code",
   "execution_count": 23,
   "metadata": {},
   "outputs": [
    {
     "name": "stdout",
     "output_type": "stream",
     "text": [
      "Hello my dog's name is Sammy and he is 4 years old\n"
     ]
    }
   ],
   "source": [
    "age = 4\n",
    "name = \"Sammy\"\n",
    "\n",
    "print(f\"Hello my dog's name is {name} and he is {age} years old\")"
   ]
  },
  {
   "cell_type": "code",
   "execution_count": null,
   "metadata": {},
   "outputs": [],
   "source": []
  }
 ],
 "metadata": {
  "kernelspec": {
   "display_name": "Python 3",
   "language": "python",
   "name": "python3"
  },
  "language_info": {
   "codemirror_mode": {
    "name": "ipython",
    "version": 3
   },
   "file_extension": ".py",
   "mimetype": "text/x-python",
   "name": "python",
   "nbconvert_exporter": "python",
   "pygments_lexer": "ipython3",
   "version": "3.6.7"
  }
 },
 "nbformat": 4,
 "nbformat_minor": 2
}

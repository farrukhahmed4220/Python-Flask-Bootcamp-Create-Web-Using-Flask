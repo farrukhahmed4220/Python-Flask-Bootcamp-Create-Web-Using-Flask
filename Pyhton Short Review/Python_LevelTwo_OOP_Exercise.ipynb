{
 "cells": [
  {
   "cell_type": "markdown",
   "metadata": {},
   "source": [
    "# OOP Exercise\n",
    "### Bank Account"
   ]
  },
  {
   "cell_type": "code",
   "execution_count": 45,
   "metadata": {},
   "outputs": [
    {
     "name": "stdout",
     "output_type": "stream",
     "text": [
      "Account Owner: Jose    Account Balance: 100\n",
      "Jose\n",
      "100\n",
      "Amount of $50 has been deposited in your account   New Account Balance is $150\n",
      "Amount of $50 has been withdraw from your account   New Account Balance is $100\n",
      "Balance Unavailable\n"
     ]
    }
   ],
   "source": [
    "class Account:\n",
    "    \n",
    "    def __init__(self, owner, balance=0):\n",
    "        self.owner = owner\n",
    "        self.balance = balance\n",
    "        \n",
    "        \n",
    "    def __str__(self):\n",
    "        return f'Account Owner: {self.owner}    Account Balance: {self.balance}'\n",
    "    \n",
    "    def deposit(self, amount):\n",
    "        self.depo = amount\n",
    "        self.balance += amount\n",
    "        return f'Amount of ${self.depo} has been deposited in your account   New Account Balance is ${self.balance}'\n",
    "    \n",
    "    def withdraw(self, amt):\n",
    "        if self.balance >= amt:\n",
    "            self.wthdrw = amt\n",
    "            self.balance -= amt\n",
    "            return f'Amount of ${self.wthdrw} has been withdraw from your account   New Account Balance is ${self.balance}'\n",
    "        else:\n",
    "            return 'Balance Unavailable'\n",
    "        \n",
    "    \n",
    "        \n",
    "acc1 = Account('Jose', 100)\n",
    "print(acc1) \n",
    "print(acc1.owner)\n",
    "print(acc1.balance)\n",
    "print(acc1.deposit(50))\n",
    "print(acc1.withdraw(50))\n",
    "print(acc1.withdraw(500))"
   ]
  }
 ],
 "metadata": {
  "kernelspec": {
   "display_name": "Python 3",
   "language": "python",
   "name": "python3"
  },
  "language_info": {
   "codemirror_mode": {
    "name": "ipython",
    "version": 3
   },
   "file_extension": ".py",
   "mimetype": "text/x-python",
   "name": "python",
   "nbconvert_exporter": "python",
   "pygments_lexer": "ipython3",
   "version": "3.6.7"
  }
 },
 "nbformat": 4,
 "nbformat_minor": 2
}

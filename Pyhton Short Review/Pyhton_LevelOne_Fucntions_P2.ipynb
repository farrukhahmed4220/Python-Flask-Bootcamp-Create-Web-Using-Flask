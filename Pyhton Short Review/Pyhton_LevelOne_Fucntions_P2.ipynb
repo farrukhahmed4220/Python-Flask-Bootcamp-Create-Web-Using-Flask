{
 "cells": [
  {
   "cell_type": "markdown",
   "metadata": {},
   "source": [
    "# min and max function"
   ]
  },
  {
   "cell_type": "code",
   "execution_count": 1,
   "metadata": {},
   "outputs": [
    {
     "name": "stdout",
     "output_type": "stream",
     "text": [
      "1\n"
     ]
    }
   ],
   "source": [
    "mylist=[1,2,3,4,5,6,7,8,9,10,25,146,200,16,45,878,98,5465]\n",
    "print(min(mylist))"
   ]
  },
  {
   "cell_type": "code",
   "execution_count": 2,
   "metadata": {},
   "outputs": [
    {
     "name": "stdout",
     "output_type": "stream",
     "text": [
      "5465\n"
     ]
    }
   ],
   "source": [
    "print(max(mylist))"
   ]
  },
  {
   "cell_type": "markdown",
   "metadata": {},
   "source": [
    "# enumerate keyword"
   ]
  },
  {
   "cell_type": "code",
   "execution_count": 3,
   "metadata": {},
   "outputs": [
    {
     "name": "stdout",
     "output_type": "stream",
     "text": [
      "(0, 'a')\n",
      "(1, 'b')\n",
      "(2, 'c')\n",
      "(3, 'd')\n"
     ]
    }
   ],
   "source": [
    "# enumerate  traces the index of items in a list\n",
    "mylst = ['a','b', 'c', 'd']\n",
    "\n",
    "for item in enumerate(mylst):\n",
    "    print(item)"
   ]
  },
  {
   "cell_type": "code",
   "execution_count": 5,
   "metadata": {},
   "outputs": [
    {
     "name": "stdout",
     "output_type": "stream",
     "text": [
      "a\n",
      "is at index 0\n",
      "\n",
      "b\n",
      "is at index 1\n",
      "\n",
      "c\n",
      "is at index 2\n",
      "\n",
      "d\n",
      "is at index 3\n",
      "\n"
     ]
    }
   ],
   "source": [
    "for index,item in enumerate(mylst):\n",
    "    print(item)\n",
    "    print(f\"is at index {index}\")\n",
    "    print('')\n",
    "    "
   ]
  },
  {
   "cell_type": "markdown",
   "metadata": {},
   "source": [
    "# join method"
   ]
  },
  {
   "cell_type": "code",
   "execution_count": 6,
   "metadata": {},
   "outputs": [
    {
     "name": "stdout",
     "output_type": "stream",
     "text": [
      "abcd\n"
     ]
    }
   ],
   "source": [
    "print(''.join(mylst))"
   ]
  },
  {
   "cell_type": "code",
   "execution_count": 7,
   "metadata": {},
   "outputs": [
    {
     "name": "stdout",
     "output_type": "stream",
     "text": [
      "a--b--c--d\n"
     ]
    }
   ],
   "source": [
    "print('--'.join(mylst))"
   ]
  },
  {
   "cell_type": "markdown",
   "metadata": {},
   "source": [
    "# Problem 1"
   ]
  },
  {
   "cell_type": "markdown",
   "metadata": {},
   "source": [
    "#write a function that returns a boolean (True/False) indicating if the word 'secret' is in a string."
   ]
  },
  {
   "cell_type": "code",
   "execution_count": 11,
   "metadata": {},
   "outputs": [
    {
     "name": "stdout",
     "output_type": "stream",
     "text": [
      "False\n",
      "True\n"
     ]
    }
   ],
   "source": [
    "def secret_check(mystr):\n",
    "    if 'secret' in mystr:   #here is a case sensitive\n",
    "        return True\n",
    "    else:\n",
    "        return False\n",
    "    \n",
    "    \n",
    "print(secret_check('simple check'))\n",
    "print(secret_check('simple secret check'))"
   ]
  },
  {
   "cell_type": "code",
   "execution_count": 12,
   "metadata": {},
   "outputs": [
    {
     "name": "stdout",
     "output_type": "stream",
     "text": [
      "True\n"
     ]
    }
   ],
   "source": [
    "def check(mystr):\n",
    "    return 'secret' in mystr.lower()\n",
    "\n",
    "print(check('simple secret'))"
   ]
  },
  {
   "cell_type": "markdown",
   "metadata": {},
   "source": [
    "# Problem 2\n",
    "#write a code maker fucntion. this function will take in astring name and replace any vowels with letter x."
   ]
  },
  {
   "cell_type": "code",
   "execution_count": 17,
   "metadata": {},
   "outputs": [
    {
     "name": "stdout",
     "output_type": "stream",
     "text": [
      "['f', 'a', 'r', 'r', 'u', 'k', 'h']\n"
     ]
    },
    {
     "data": {
      "text/plain": [
       "'fxrrxkh'"
      ]
     },
     "execution_count": 17,
     "metadata": {},
     "output_type": "execute_result"
    }
   ],
   "source": [
    "def replace(mystr):\n",
    "    output = list(mystr)\n",
    "    print(output)\n",
    "    for index,letter in enumerate(mystr):\n",
    "        for vowel in 'aeiou':\n",
    "            if letter == vowel:\n",
    "                output[index]='x'\n",
    "    output=''.join(output)\n",
    "    return output\n",
    "        \n",
    "\n",
    "replace('farrukh')"
   ]
  },
  {
   "cell_type": "code",
   "execution_count": null,
   "metadata": {},
   "outputs": [],
   "source": []
  }
 ],
 "metadata": {
  "kernelspec": {
   "display_name": "Python 3",
   "language": "python",
   "name": "python3"
  },
  "language_info": {
   "codemirror_mode": {
    "name": "ipython",
    "version": 3
   },
   "file_extension": ".py",
   "mimetype": "text/x-python",
   "name": "python",
   "nbconvert_exporter": "python",
   "pygments_lexer": "ipython3",
   "version": "3.6.7"
  }
 },
 "nbformat": 4,
 "nbformat_minor": 2
}

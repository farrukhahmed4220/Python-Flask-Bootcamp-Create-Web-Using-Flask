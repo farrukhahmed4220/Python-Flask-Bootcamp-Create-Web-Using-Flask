{
 "cells": [
  {
   "cell_type": "markdown",
   "metadata": {},
   "source": [
    "# User Defined Method\n",
    "# Inheritance"
   ]
  },
  {
   "cell_type": "markdown",
   "metadata": {},
   "source": [
    "#### __init__  is a simple or special method\n",
    "#### where as area() is a self defined method"
   ]
  },
  {
   "cell_type": "code",
   "execution_count": 11,
   "metadata": {},
   "outputs": [
    {
     "name": "stdout",
     "output_type": "stream",
     "text": [
      "This is the default value: 1\n",
      "10\n",
      "314.2\n",
      "62.839999999999996\n"
     ]
    }
   ],
   "source": [
    "class Circle():\n",
    "    pi = 3.142    #class object attribute which can be true to any circle regardless of the radius\n",
    "    def __init__(self, radius=1):   #assigning default value\n",
    "        self.radius = radius\n",
    "        \n",
    "    def area(self):\n",
    "        return self.radius * self.radius * self.pi\n",
    "    \n",
    "    def circum(self):\n",
    "        return 2 * self.pi * self.radius\n",
    "    \n",
    "z=Circle()\n",
    "print(f\"This is the default value: {z.radius}\" )\n",
    "X = Circle(10)\n",
    "print(X.radius)\n",
    "print(X.area())\n",
    "print(X.circum())"
   ]
  },
  {
   "cell_type": "code",
   "execution_count": 20,
   "metadata": {},
   "outputs": [
    {
     "name": "stdout",
     "output_type": "stream",
     "text": [
      "Animal Created !\n",
      "Dog Created !\n",
      "Fuzzy\n",
      "Eating !\n",
      "I'm a Dog\n"
     ]
    }
   ],
   "source": [
    "class Animal():\n",
    "    def __init__(self,fur):\n",
    "        self.fur = fur\n",
    "        print('Animal Created !')\n",
    "        \n",
    "        \n",
    "    def report(self):\n",
    "        print('Animal')\n",
    "        \n",
    "    def eat(self):\n",
    "        print('Eating !')\n",
    "        \n",
    "class Dog(Animal):   #Dog class Inherit Animal class\n",
    "    \n",
    "    def __init__(self, fur):\n",
    "        Animal.__init__(self,fur)\n",
    "        print('Dog Created !')\n",
    "        \n",
    "    def report(self):  #overriding method\n",
    "        print(\"I'm a Dog\")\n",
    "        \n",
    "        \n",
    "d = Dog('Fuzzy')\n",
    "print(d.fur)\n",
    "d.eat()\n",
    "d.report()\n"
   ]
  },
  {
   "cell_type": "code",
   "execution_count": null,
   "metadata": {},
   "outputs": [],
   "source": []
  }
 ],
 "metadata": {
  "kernelspec": {
   "display_name": "Python 3",
   "language": "python",
   "name": "python3"
  },
  "language_info": {
   "codemirror_mode": {
    "name": "ipython",
    "version": 3
   },
   "file_extension": ".py",
   "mimetype": "text/x-python",
   "name": "python",
   "nbconvert_exporter": "python",
   "pygments_lexer": "ipython3",
   "version": "3.6.7"
  }
 },
 "nbformat": 4,
 "nbformat_minor": 2
}

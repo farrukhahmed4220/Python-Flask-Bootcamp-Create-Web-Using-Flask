{
 "cells": [
  {
   "cell_type": "markdown",
   "metadata": {},
   "source": [
    "# Decorators in Python"
   ]
  },
  {
   "cell_type": "markdown",
   "metadata": {},
   "source": [
    "##### This is Functions inside Function"
   ]
  },
  {
   "cell_type": "code",
   "execution_count": 3,
   "metadata": {},
   "outputs": [
    {
     "name": "stdout",
     "output_type": "stream",
     "text": [
      "Hello() function has been called\n",
      "   This greet is inside hello\n",
      "   This welcome is inside hello()\n"
     ]
    }
   ],
   "source": [
    "# def hello(name= 'Jose'):\n",
    "#     print('Hello() function has been called')\n",
    "#     def greet():\n",
    "#         return'   This greet is inside hello'\n",
    "    \n",
    "#     def welcome():\n",
    "#         return'   This welcome is inside hello()'\n",
    "    \n",
    "#     print(greet())\n",
    "\n",
    "#     print(welcome())\n",
    "    \n",
    "# x = hello()"
   ]
  },
  {
   "cell_type": "markdown",
   "metadata": {},
   "source": [
    "##### This is Returning Functions"
   ]
  },
  {
   "cell_type": "code",
   "execution_count": 6,
   "metadata": {},
   "outputs": [
    {
     "name": "stdout",
     "output_type": "stream",
     "text": [
      "Hello() function has been called\n",
      "   This greet is inside hello\n"
     ]
    }
   ],
   "source": [
    "def hello(name= 'Jose'):\n",
    "    print('Hello() function has been called')\n",
    "    def greet():\n",
    "        return'   This greet is inside hello'\n",
    "    \n",
    "    def welcome():\n",
    "        return'   This welcome is inside hello()'\n",
    "    \n",
    "    if name == 'Jose':\n",
    "        return greet\n",
    "    else:\n",
    "        return welcome\n",
    "    \n",
    "x = hello()\n",
    "print(x())"
   ]
  },
  {
   "cell_type": "markdown",
   "metadata": {},
   "source": [
    "##### This is a Function as arguments"
   ]
  },
  {
   "cell_type": "code",
   "execution_count": 12,
   "metadata": {},
   "outputs": [
    {
     "name": "stdout",
     "output_type": "stream",
     "text": [
      "Hi ! this is inside Other function\n",
      "Hello ! this is inside hello\n"
     ]
    }
   ],
   "source": [
    "def hello():\n",
    "    return 'Hello ! this is inside hello'\n",
    "    \n",
    "    \n",
    "def other(func):\n",
    "    print('Hi ! this is inside Other function')\n",
    "    \n",
    "    # assume the func passed in the parameter is a function\n",
    "    \n",
    "    print(func())\n",
    "    \n",
    "other(hello)"
   ]
  },
  {
   "cell_type": "markdown",
   "metadata": {},
   "source": [
    "##### Manual coded decorator"
   ]
  },
  {
   "cell_type": "code",
   "execution_count": 16,
   "metadata": {},
   "outputs": [
    {
     "name": "stdout",
     "output_type": "stream",
     "text": [
      "some code before executing a func()\n",
      "Please decorate me !\n",
      "some after executing a func()\n"
     ]
    }
   ],
   "source": [
    "# def new_decorator(func):\n",
    "#     def wrap_func():\n",
    "#         print('some code before executing a func()')\n",
    "#         func()\n",
    "#         print('some after executing a func()')\n",
    "#     return wrap_func\n",
    "\n",
    "# def func_needs_decorator():\n",
    "#     print('Please decorate me !')\n",
    "    \n",
    "# func_need_decorator = new_decorator(func_needs_decorator)\n",
    "\n",
    "# func_need_decorator()"
   ]
  },
  {
   "cell_type": "markdown",
   "metadata": {},
   "source": [
    "##### Use of @ in decorator"
   ]
  },
  {
   "cell_type": "code",
   "execution_count": 23,
   "metadata": {},
   "outputs": [
    {
     "name": "stdout",
     "output_type": "stream",
     "text": [
      "some code before executing a func()\n",
      "Please decorate me !\n",
      "some after executing a func()\n"
     ]
    }
   ],
   "source": [
    "def new_decorator(func):\n",
    "    def wrap_func():\n",
    "        print('some code before executing a func()')\n",
    "        func()\n",
    "        print('some after executing a func()')\n",
    "    return wrap_func\n",
    "\n",
    "@new_decorator\n",
    "def func_needs_decorator():\n",
    "    print('Please decorate me !')\n",
    "    \n",
    "#func_need_decorator = new_decorator(func_needs_decorator)\n",
    "\n",
    "func_needs_decorator()"
   ]
  }
 ],
 "metadata": {
  "kernelspec": {
   "display_name": "Python 3",
   "language": "python",
   "name": "python3"
  },
  "language_info": {
   "codemirror_mode": {
    "name": "ipython",
    "version": 3
   },
   "file_extension": ".py",
   "mimetype": "text/x-python",
   "name": "python",
   "nbconvert_exporter": "python",
   "pygments_lexer": "ipython3",
   "version": "3.6.7"
  }
 },
 "nbformat": 4,
 "nbformat_minor": 2
}

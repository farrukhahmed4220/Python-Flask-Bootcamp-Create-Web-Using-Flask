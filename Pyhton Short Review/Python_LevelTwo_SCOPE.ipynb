{
 "cells": [
  {
   "cell_type": "markdown",
   "metadata": {},
   "source": [
    "## When it comes to SCOPE \n",
    "## Python follows LEGB rule\n",
    "## first it will look for \n",
    "## LOCAL\n",
    "## ENCLOSING\n",
    "## GLOBAL\n",
    "## BUILT-IN"
   ]
  },
  {
   "cell_type": "code",
   "execution_count": 2,
   "metadata": {},
   "outputs": [
    {
     "name": "stdout",
     "output_type": "stream",
     "text": [
      "hey it is GLOBAL \n"
     ]
    }
   ],
   "source": [
    "x = 'hey it is GLOBAL '\n",
    "def report():\n",
    "    x='hey it is LOCAL'\n",
    "    print(x)\n",
    "    \n",
    "print(x)"
   ]
  },
  {
   "cell_type": "code",
   "execution_count": 3,
   "metadata": {},
   "outputs": [
    {
     "name": "stdout",
     "output_type": "stream",
     "text": [
      "HEY It is LOCAL\n"
     ]
    }
   ],
   "source": [
    "#Example for LOCAL\n",
    "\n",
    "z='HEY It is GLOBAL'\n",
    "def repo():\n",
    "    z='HEY It is ENCLOSING'\n",
    "    def inside():\n",
    "        z='HEY It is LOCAL'\n",
    "        print(z)\n",
    "    inside()\n",
    "    \n",
    "repo()"
   ]
  },
  {
   "cell_type": "code",
   "execution_count": 4,
   "metadata": {},
   "outputs": [
    {
     "name": "stdout",
     "output_type": "stream",
     "text": [
      "HEY It is ENCLOSING\n"
     ]
    }
   ],
   "source": [
    "#Example for ENCLOSING\n",
    "\n",
    "z='HEY It is GLOBAL'\n",
    "def repo():\n",
    "    z='HEY It is ENCLOSING'\n",
    "    def inside():\n",
    "        #z='HEY It is LOCAL'\n",
    "        print(z)\n",
    "    inside()\n",
    "    \n",
    "repo()"
   ]
  },
  {
   "cell_type": "code",
   "execution_count": 5,
   "metadata": {},
   "outputs": [
    {
     "name": "stdout",
     "output_type": "stream",
     "text": [
      "HEY It is GLOBAL\n"
     ]
    }
   ],
   "source": [
    "# Example for GLOBAL\n",
    "z='HEY It is GLOBAL'\n",
    "def repo():\n",
    "    #z='HEY It is ENCLOSING'\n",
    "    def inside():\n",
    "      #  z='HEY It is LOCAL'\n",
    "        print(z)\n",
    "    inside()\n",
    "    \n",
    "repo()"
   ]
  },
  {
   "cell_type": "markdown",
   "metadata": {},
   "source": [
    "# Use of GLOBAL keyword"
   ]
  },
  {
   "cell_type": "code",
   "execution_count": 12,
   "metadata": {},
   "outputs": [
    {
     "name": "stdout",
     "output_type": "stream",
     "text": [
      "outside\n",
      "inside\n",
      "inside\n"
     ]
    }
   ],
   "source": [
    "x = 'outside'\n",
    "def rep():\n",
    "    #print(x)\n",
    "    #HEY GRAB THE GLOBAL LEVEL x VARIABLE\n",
    "    global x\n",
    "    print(x) #its the original global prints here\n",
    "    #REASSIGN GLOBAL x\n",
    "    x = 'inside' # and here it reassigns the GLOBAL variable\n",
    "    return x\n",
    "\n",
    "print(rep())\n",
    "print(x) #here it should prints inside becz in above func it reassigns the global variable and new value is inside"
   ]
  },
  {
   "cell_type": "markdown",
   "metadata": {},
   "source": [
    "### the GLOBAL keyword should be used carefully becz of itz complexity"
   ]
  },
  {
   "cell_type": "markdown",
   "metadata": {},
   "source": [
    "#### Alternate To GLOBAL keyword"
   ]
  },
  {
   "cell_type": "code",
   "execution_count": 17,
   "metadata": {},
   "outputs": [
    {
     "name": "stdout",
     "output_type": "stream",
     "text": [
      "outside\n",
      "inside\n",
      "outside\n"
     ]
    }
   ],
   "source": [
    "x = 'outside'\n",
    "def rep(x):\n",
    "    print(x) #its the original global prints here\n",
    "    #REASSIGN GLOBAL x\n",
    "    x = 'inside' # and here it reassigns the GLOBAL variable\n",
    "    return x\n",
    "\n",
    "print(rep(x))\n",
    "print(x) # it should prints outside bcz global keyword is not used , and it get back to its original value"
   ]
  },
  {
   "cell_type": "code",
   "execution_count": null,
   "metadata": {},
   "outputs": [],
   "source": []
  }
 ],
 "metadata": {
  "kernelspec": {
   "display_name": "Python 3",
   "language": "python",
   "name": "python3"
  },
  "language_info": {
   "codemirror_mode": {
    "name": "ipython",
    "version": 3
   },
   "file_extension": ".py",
   "mimetype": "text/x-python",
   "name": "python",
   "nbconvert_exporter": "python",
   "pygments_lexer": "ipython3",
   "version": "3.6.7"
  }
 },
 "nbformat": 4,
 "nbformat_minor": 2
}

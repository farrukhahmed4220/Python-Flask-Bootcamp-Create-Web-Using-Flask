{
 "cells": [
  {
   "cell_type": "code",
   "execution_count": 24,
   "metadata": {},
   "outputs": [
    {
     "name": "stdout",
     "output_type": "stream",
     "text": [
      "True\n",
      "False\n",
      "############################################\n",
      "True\n"
     ]
    }
   ],
   "source": [
    "#My Solution\n",
    "def sumint(int1, int2):\n",
    "    add= int1 + int2\n",
    "    if add == 10:\n",
    "        return True\n",
    "    else:\n",
    "        return False\n",
    "\n",
    "\n",
    "print(sumint(7,3))\n",
    "print(sumint(1,1))\n",
    "\n",
    "print('############################################')\n",
    "# The Original One \n",
    "def t1(n1, n2):\n",
    "    return (n1+n2) == 10\n",
    "\n",
    "print(t1(7,3))"
   ]
  },
  {
   "cell_type": "code",
   "execution_count": 25,
   "metadata": {},
   "outputs": [
    {
     "name": "stdout",
     "output_type": "stream",
     "text": [
      "True\n",
      "2\n"
     ]
    }
   ],
   "source": [
    "#My Solution\n",
    "def check_ten(int1, int2):\n",
    "    add= int1 + int2\n",
    "    if add == 10:\n",
    "        return True\n",
    "    else:\n",
    "        return int1+int2\n",
    "    \n",
    "    \n",
    "\n",
    "print(check_ten(7,3))\n",
    "print(check_ten(1,1))"
   ]
  },
  {
   "cell_type": "code",
   "execution_count": 15,
   "metadata": {},
   "outputs": [
    {
     "name": "stdout",
     "output_type": "stream",
     "text": [
      "F\n"
     ]
    }
   ],
   "source": [
    "#My Solution\n",
    "def first_upper(mystr):\n",
    "    #print(mystr[0].upper())\n",
    "    return mystr[0].upper()\n",
    "    \n",
    "    \n",
    "print(first_upper('farrukh'))"
   ]
  },
  {
   "cell_type": "code",
   "execution_count": 18,
   "metadata": {},
   "outputs": [
    {
     "name": "stdout",
     "output_type": "stream",
     "text": [
      "kh\n",
      "Error\n"
     ]
    }
   ],
   "source": [
    "def ret_str(mystr):\n",
    "    if len(mystr) < 2:\n",
    "        return 'Error'\n",
    "    else:\n",
    "        return mystr[-2:]\n",
    "    \n",
    "print(ret_str('farrukh'))\n",
    "print(ret_str('f'))\n"
   ]
  },
  {
   "cell_type": "code",
   "execution_count": 30,
   "metadata": {},
   "outputs": [
    {
     "name": "stdout",
     "output_type": "stream",
     "text": [
      "True\n"
     ]
    }
   ],
   "source": [
    "#TASK 5 , The orignal One\n",
    "def seq_check(nums):\n",
    "    for i in range(len(nums)-2):\n",
    "        if nums[i]==1 and nums[i+1]==2 and nums[i+2]==3:\n",
    "            return True\n",
    "    return False\n",
    "    \n",
    "print(seq_check([1,5,3,4,1,2,3,4]))"
   ]
  },
  {
   "cell_type": "code",
   "execution_count": 31,
   "metadata": {},
   "outputs": [
    {
     "name": "stdout",
     "output_type": "stream",
     "text": [
      "2\n"
     ]
    }
   ],
   "source": [
    "#TASK 6\n",
    "\n",
    "def T6(s1,s2):\n",
    "    return abs(len(s1)-len(s2))\n",
    "\n",
    "print(T6('farrukh','Ahmed'))"
   ]
  },
  {
   "cell_type": "code",
   "execution_count": 21,
   "metadata": {},
   "outputs": [
    {
     "name": "stdout",
     "output_type": "stream",
     "text": [
      "45\n",
      "99\n"
     ]
    }
   ],
   "source": [
    "#TASK 7\n",
    "\n",
    "def check_list(mylist):\n",
    "    if len(mylist) % 2 == 0:\n",
    "        return sum(mylist)\n",
    "    else:\n",
    "        return max(mylist)\n",
    "    \n",
    "\n",
    "print(check_list([1,2,3,4,5,6,7,8,9,0]))\n",
    "print(check_list([1,2,3,4,5,6,99]))\n"
   ]
  },
  {
   "cell_type": "code",
   "execution_count": null,
   "metadata": {},
   "outputs": [],
   "source": []
  }
 ],
 "metadata": {
  "kernelspec": {
   "display_name": "Python 3",
   "language": "python",
   "name": "python3"
  },
  "language_info": {
   "codemirror_mode": {
    "name": "ipython",
    "version": 3
   },
   "file_extension": ".py",
   "mimetype": "text/x-python",
   "name": "python",
   "nbconvert_exporter": "python",
   "pygments_lexer": "ipython3",
   "version": "3.6.7"
  }
 },
 "nbformat": 4,
 "nbformat_minor": 2
}
